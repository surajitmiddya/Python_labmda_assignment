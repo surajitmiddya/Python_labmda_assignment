{
 "cells": [
  {
   "cell_type": "markdown",
   "id": "c4bd9150-c7ae-4c38-9e96-a87a0d577b48",
   "metadata": {},
   "source": [
    "Q1. Create a python program to sort the given list of tuples based on integer value using a lambda function."
   ]
  },
  {
   "cell_type": "code",
   "execution_count": 70,
   "id": "fd715104-a53a-4d6e-9653-737ee30dc147",
   "metadata": {},
   "outputs": [
    {
     "data": {
      "text/plain": [
       "[('Virat Kohli', 24936),\n",
       " ('Jack Kallis', 25534),\n",
       " ('Ricky Ponting', 27483),\n",
       " ('Sachin Tendulkar', 34357)]"
      ]
     },
     "execution_count": 70,
     "metadata": {},
     "output_type": "execute_result"
    }
   ],
   "source": [
    "my_list=[('Sachin Tendulkar', 34357), ('Ricky Ponting', 27483), ('Jack Kallis', 25534), ('Virat Kohli', 24936)]\n",
    "sorted(list_tuple, key=lambda x: x[1])"
   ]
  },
  {
   "cell_type": "markdown",
   "id": "60d8bf12-41a0-4bf4-abd5-7f2b22b6f2e3",
   "metadata": {},
   "source": [
    "Q2. Write a Python Program to find the squares of all the numbers in the given list of integers using lambda and map functions."
   ]
  },
  {
   "cell_type": "code",
   "execution_count": 71,
   "id": "532a26e5-29d2-4f52-8f42-9595e8ebcc6f",
   "metadata": {},
   "outputs": [
    {
     "data": {
      "text/plain": [
       "[1, 4, 9, 16, 25, 36, 49, 64, 81, 100]"
      ]
     },
     "execution_count": 71,
     "metadata": {},
     "output_type": "execute_result"
    }
   ],
   "source": [
    "l=[1,2,3,4,5,6,7,8,9,10]\n",
    "list(map(lambda sq:sq**2,l))"
   ]
  },
  {
   "cell_type": "markdown",
   "id": "65d97aa9-fcd4-4797-8711-7104690eb8ca",
   "metadata": {},
   "source": [
    "Q.3 Write a python program to convert the given list of integers into a tuple of strings. Use map and lambda functions"
   ]
  },
  {
   "cell_type": "code",
   "execution_count": 14,
   "id": "59061e17-9777-49fd-8988-57120d1d7f5e",
   "metadata": {},
   "outputs": [
    {
     "data": {
      "text/plain": [
       "('1', '2', '3', '4', '5', '6', '7', '8', '9', '10')"
      ]
     },
     "execution_count": 14,
     "metadata": {},
     "output_type": "execute_result"
    }
   ],
   "source": [
    "l=[1,2,3,4,5,6,7,8,9,10]\n",
    "tuple(map(lambda s: str(s),l))"
   ]
  },
  {
   "cell_type": "markdown",
   "id": "5da8198a-23fd-4bf2-9f5e-867004405241",
   "metadata": {},
   "source": [
    "Q4. Write a python program using reduce function to compute the product of a list containing numbers\n",
    "from 1 to 25."
   ]
  },
  {
   "cell_type": "code",
   "execution_count": 61,
   "id": "82724c5c-e40f-4ca0-8437-ee7c5ef0cfdb",
   "metadata": {},
   "outputs": [
    {
     "data": {
      "text/plain": [
       "15511210043330985984000000"
      ]
     },
     "execution_count": 61,
     "metadata": {},
     "output_type": "execute_result"
    }
   ],
   "source": [
    "from functools import reduce\n",
    "l1=list(range(1,26))   \n",
    "reduce(lambda x,y:x*y,l1) # using lambda function"
   ]
  },
  {
   "cell_type": "code",
   "execution_count": 63,
   "id": "07e351ff-1cbf-4016-b258-1886605248c0",
   "metadata": {},
   "outputs": [
    {
     "name": "stdout",
     "output_type": "stream",
     "text": [
      "15511210043330985984000000\n"
     ]
    }
   ],
   "source": [
    "# Alternative using pre-defined external function\n",
    "from functools import reduce\n",
    "\n",
    "# Define a list of numbers to apply the function to\n",
    "l1 =list(range(1,26)) \n",
    "\n",
    "# Define a function to apply\n",
    "def multiply(x, y):\n",
    "    return x * y\n",
    "\n",
    "# Use the reduce method to apply the function to the list of numbers\n",
    "result = reduce(multiply,l1)\n",
    "\n",
    "# Print the result\n",
    "print(result)\n"
   ]
  },
  {
   "cell_type": "markdown",
   "id": "74acd8ff-5ec4-45d7-92cf-35613fae3ba5",
   "metadata": {},
   "source": [
    "Q5. Write a python program to filter the numbers in a given list that are divisible by 2 and 3 using the\n",
    "filter function."
   ]
  },
  {
   "cell_type": "code",
   "execution_count": 29,
   "id": "b348f83e-9bf2-460c-a7ae-ebda1329efe7",
   "metadata": {},
   "outputs": [
    {
     "data": {
      "text/plain": [
       "[6, 60, 90, 120]"
      ]
     },
     "execution_count": 29,
     "metadata": {},
     "output_type": "execute_result"
    }
   ],
   "source": [
    "l2=[2, 3, 6, 9, 27, 60, 90, 120, 55, 46]\n",
    "list(filter(lambda x: x%2==0 and x%3==0,l2))"
   ]
  },
  {
   "cell_type": "markdown",
   "id": "e77c4788-9610-436d-a40c-66bf5bcfb996",
   "metadata": {},
   "source": [
    "Q6. Write a python program to find palindromes in the given list of strings using lambda and filter\n",
    "function."
   ]
  },
  {
   "cell_type": "code",
   "execution_count": 12,
   "id": "efadee8c-003a-4495-8d90-facb3990bdb7",
   "metadata": {},
   "outputs": [
    {
     "name": "stdout",
     "output_type": "stream",
     "text": [
      "['php', 'aba', 'radar', 'level']\n"
     ]
    }
   ],
   "source": [
    "s=['python', 'php', 'aba', 'radar', 'level']\n",
    "palindromes=list(filter(lambda x:x[::-1]==x,s))\n",
    "print(palindromes)"
   ]
  }
 ],
 "metadata": {
  "kernelspec": {
   "display_name": "Python 3 (ipykernel)",
   "language": "python",
   "name": "python3"
  },
  "language_info": {
   "codemirror_mode": {
    "name": "ipython",
    "version": 3
   },
   "file_extension": ".py",
   "mimetype": "text/x-python",
   "name": "python",
   "nbconvert_exporter": "python",
   "pygments_lexer": "ipython3",
   "version": "3.10.8"
  }
 },
 "nbformat": 4,
 "nbformat_minor": 5
}
